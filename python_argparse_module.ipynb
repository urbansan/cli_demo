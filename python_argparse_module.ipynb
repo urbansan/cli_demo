{
 "cells": [
  {
   "cell_type": "markdown",
   "metadata": {
    "slideshow": {
     "slide_type": "slide"
    }
   },
   "source": [
    "# How to manage a CLI \n",
    "(command line interface)\n",
    "- `binary arg1 arg2 --flag value1 --condition_flag` "
   ]
  },
  {
   "cell_type": "markdown",
   "metadata": {
    "slideshow": {
     "slide_type": "slide"
    }
   },
   "source": [
    "### Environment preparation\n",
    "- how to create an command entry point to a python module:"
   ]
  },
  {
   "cell_type": "code",
   "execution_count": 1,
   "metadata": {},
   "outputs": [
    {
     "name": "stdout",
     "output_type": "stream",
     "text": [
      "Overwriting cli_demo.py\n"
     ]
    }
   ],
   "source": [
    "%%writefile cli_demo.py\n",
    "\n",
    "print(__file__)"
   ]
  },
  {
   "cell_type": "code",
   "execution_count": 2,
   "metadata": {},
   "outputs": [
    {
     "name": "stdout",
     "output_type": "stream",
     "text": [
      "/home/urban/notebooks/nb_slides/cli_demo.py\r\n"
     ]
    }
   ],
   "source": [
    "!python -m cli_demo"
   ]
  },
  {
   "cell_type": "code",
   "execution_count": 3,
   "metadata": {
    "slideshow": {
     "slide_type": "subslide"
    }
   },
   "outputs": [
    {
     "name": "stdout",
     "output_type": "stream",
     "text": [
      "['/home/urban/notebooks/nb_slides',\n",
      " '/home/urban/repos',\n",
      " '/home/urban/notebooks/nb_slides',\n",
      " '/home/urban/notebooks/venv_nb/lib/python37.zip',\n",
      " '/home/urban/notebooks/venv_nb/lib/python3.7',\n",
      " '/home/urban/notebooks/venv_nb/lib/python3.7/lib-dynload',\n",
      " '/usr/local/lib/python3.7',\n",
      " '',\n",
      " '/home/urban/notebooks/venv_nb/lib/python3.7/site-packages',\n",
      " '/home/urban/notebooks/venv_nb/lib/python3.7/site-packages/IPython/extensions',\n",
      " '/home/urban/.ipython']\n"
     ]
    }
   ],
   "source": [
    "import sys\n",
    "from pprint import pprint as pp\n",
    "\n",
    "pp(sys.path)"
   ]
  },
  {
   "cell_type": "code",
   "execution_count": 4,
   "metadata": {
    "slideshow": {
     "slide_type": "subslide"
    }
   },
   "outputs": [
    {
     "name": "stdout",
     "output_type": "stream",
     "text": [
      "/home/urban/notebooks/nb_slides\n"
     ]
    }
   ],
   "source": [
    "import os\n",
    "print(os.getcwd())"
   ]
  },
  {
   "cell_type": "code",
   "execution_count": 5,
   "metadata": {},
   "outputs": [
    {
     "name": "stdout",
     "output_type": "stream",
     "text": [
      "/home/urban/repos:/home/urban/repos:\r\n"
     ]
    }
   ],
   "source": [
    "!echo $PYTHONPATH"
   ]
  },
  {
   "cell_type": "markdown",
   "metadata": {
    "slideshow": {
     "slide_type": "slide"
    }
   },
   "source": [
    "### Creating a single flag"
   ]
  },
  {
   "cell_type": "code",
   "execution_count": 6,
   "metadata": {},
   "outputs": [
    {
     "name": "stdout",
     "output_type": "stream",
     "text": [
      "Overwriting cli_demo.py\n"
     ]
    }
   ],
   "source": [
    "%%writefile cli_demo.py\n",
    "\n",
    "import argparse\n",
    "\n",
    "parser = argparse.ArgumentParser()\n",
    "parser.add_argument('-i')\n",
    "parser.parse_args()"
   ]
  },
  {
   "cell_type": "markdown",
   "metadata": {
    "slideshow": {
     "slide_type": "subslide"
    }
   },
   "source": [
    "### Nothing happens"
   ]
  },
  {
   "cell_type": "code",
   "execution_count": 7,
   "metadata": {
    "slideshow": {
     "slide_type": "-"
    }
   },
   "outputs": [],
   "source": [
    "!python -m cli_demo"
   ]
  },
  {
   "cell_type": "code",
   "execution_count": 8,
   "metadata": {
    "slideshow": {
     "slide_type": "subslide"
    }
   },
   "outputs": [
    {
     "name": "stdout",
     "output_type": "stream",
     "text": [
      "usage: cli_demo.py [-h] [-i I]\r\n",
      "\r\n",
      "optional arguments:\r\n",
      "  -h, --help  show this help message and exit\r\n",
      "  -i I\r\n"
     ]
    }
   ],
   "source": [
    "!python -m cli_demo -h"
   ]
  },
  {
   "cell_type": "code",
   "execution_count": 9,
   "metadata": {
    "slideshow": {
     "slide_type": "subslide"
    }
   },
   "outputs": [
    {
     "name": "stdout",
     "output_type": "stream",
     "text": [
      "Overwriting cli_demo.py\n"
     ]
    }
   ],
   "source": [
    "%%writefile cli_demo.py\n",
    "\n",
    "import argparse\n",
    "\n",
    "parser = argparse.ArgumentParser()\n",
    "parser.add_argument('-i')\n",
    "parser.add_argument('-v')\n",
    "parser.parse_args()"
   ]
  },
  {
   "cell_type": "code",
   "execution_count": 10,
   "metadata": {},
   "outputs": [
    {
     "name": "stdout",
     "output_type": "stream",
     "text": [
      "usage: cli_demo.py [-h] [-i I] [-v V]\r\n",
      "\r\n",
      "optional arguments:\r\n",
      "  -h, --help  show this help message and exit\r\n",
      "  -i I\r\n",
      "  -v V\r\n"
     ]
    }
   ],
   "source": [
    "!python -m cli_demo -h"
   ]
  },
  {
   "cell_type": "markdown",
   "metadata": {
    "slideshow": {
     "slide_type": "slide"
    }
   },
   "source": [
    "### Flags"
   ]
  },
  {
   "cell_type": "code",
   "execution_count": 11,
   "metadata": {},
   "outputs": [
    {
     "name": "stdout",
     "output_type": "stream",
     "text": [
      "Overwriting cli_demo.py\n"
     ]
    }
   ],
   "source": [
    "%%writefile cli_demo.py\n",
    "\n",
    "import argparse\n",
    "\n",
    "parser = argparse.ArgumentParser()\n",
    "parser.add_argument('-i', action='store_true')\n",
    "parser.add_argument('-f', action='store_false')  # implicit logic is meh...\n",
    "result = parser.parse_args()\n",
    "print(result)"
   ]
  },
  {
   "cell_type": "code",
   "execution_count": 12,
   "metadata": {
    "slideshow": {
     "slide_type": "subslide"
    }
   },
   "outputs": [
    {
     "name": "stdout",
     "output_type": "stream",
     "text": [
      "Namespace(f=True, i=True)\r\n"
     ]
    }
   ],
   "source": [
    "!python -m cli_demo -i"
   ]
  },
  {
   "cell_type": "code",
   "execution_count": 13,
   "metadata": {},
   "outputs": [
    {
     "name": "stdout",
     "output_type": "stream",
     "text": [
      "Namespace(f=False, i=True)\r\n"
     ]
    }
   ],
   "source": [
    "!python -m cli_demo -i -f"
   ]
  },
  {
   "cell_type": "code",
   "execution_count": 14,
   "metadata": {},
   "outputs": [
    {
     "name": "stdout",
     "output_type": "stream",
     "text": [
      "Namespace(f=False, i=True)\r\n"
     ]
    }
   ],
   "source": [
    "!python -m cli_demo -if"
   ]
  },
  {
   "cell_type": "markdown",
   "metadata": {
    "slideshow": {
     "slide_type": "subslide"
    }
   },
   "source": [
    "### 'action' most usable values:\n",
    "- 'store_true'\n",
    "- 'append'\n",
    "- 'count'"
   ]
  },
  {
   "cell_type": "code",
   "execution_count": 15,
   "metadata": {
    "slideshow": {
     "slide_type": "subslide"
    }
   },
   "outputs": [
    {
     "name": "stdout",
     "output_type": "stream",
     "text": [
      "Overwriting cli_demo.py\n"
     ]
    }
   ],
   "source": [
    "%%writefile cli_demo.py\n",
    "\n",
    "import argparse\n",
    "\n",
    "parser = argparse.ArgumentParser()\n",
    "parser.add_argument('-v', action='count')\n",
    "parser.add_argument('-f', action='append')\n",
    "result = parser.parse_args()\n",
    "print(result)"
   ]
  },
  {
   "cell_type": "code",
   "execution_count": 16,
   "metadata": {},
   "outputs": [
    {
     "name": "stdout",
     "output_type": "stream",
     "text": [
      "Namespace(f=['raz', 'dwa', 'trzy'], v=3)\r\n"
     ]
    }
   ],
   "source": [
    "!python -m cli_demo -vvv -f raz -f dwa -f trzy"
   ]
  },
  {
   "cell_type": "markdown",
   "metadata": {
    "slideshow": {
     "slide_type": "subslide"
    }
   },
   "source": [
    "### 'action' mixing of logic with user input (bleh):\n",
    "- 'store_false'\n",
    "- 'store_const'\n",
    "- 'append_const'"
   ]
  },
  {
   "cell_type": "markdown",
   "metadata": {
    "slideshow": {
     "slide_type": "slide"
    }
   },
   "source": [
    "### How to store values"
   ]
  },
  {
   "cell_type": "code",
   "execution_count": 17,
   "metadata": {},
   "outputs": [
    {
     "name": "stdout",
     "output_type": "stream",
     "text": [
      "Overwriting cli_demo.py\n"
     ]
    }
   ],
   "source": [
    "%%writefile cli_demo.py\n",
    "\n",
    "import argparse\n",
    "\n",
    "parser = argparse.ArgumentParser()\n",
    "parser.add_argument('-i', '--input')\n",
    "parser.add_argument('-o', '--output')\n",
    "result = parser.parse_args()\n",
    "print(result)"
   ]
  },
  {
   "cell_type": "code",
   "execution_count": 18,
   "metadata": {},
   "outputs": [
    {
     "name": "stdout",
     "output_type": "stream",
     "text": [
      "Namespace(input='siemano.txt', output='papa.md')\r\n"
     ]
    }
   ],
   "source": [
    "!python -m cli_demo -i 'siemano.txt' -o 'papa.md'"
   ]
  },
  {
   "cell_type": "code",
   "execution_count": 19,
   "metadata": {
    "scrolled": false,
    "slideshow": {
     "slide_type": "subslide"
    }
   },
   "outputs": [
    {
     "name": "stdout",
     "output_type": "stream",
     "text": [
      "usage: cli_demo.py [-h] [-i INPUT] [-o OUTPUT]\r\n",
      "\r\n",
      "optional arguments:\r\n",
      "  -h, --help            show this help message and exit\r\n",
      "  -i INPUT, --input INPUT\r\n",
      "  -o OUTPUT, --output OUTPUT\r\n"
     ]
    }
   ],
   "source": [
    "!python -m cli_demo -h"
   ]
  },
  {
   "cell_type": "markdown",
   "metadata": {
    "slideshow": {
     "slide_type": "slide"
    }
   },
   "source": [
    "### How to show parameter types (e.g. filename, image, dates)"
   ]
  },
  {
   "cell_type": "code",
   "execution_count": 20,
   "metadata": {},
   "outputs": [
    {
     "name": "stdout",
     "output_type": "stream",
     "text": [
      "Overwriting cli_demo.py\n"
     ]
    }
   ],
   "source": [
    "%%writefile cli_demo.py\n",
    "\n",
    "import argparse\n",
    "\n",
    "parser = argparse.ArgumentParser()\n",
    "parser.add_argument('-i', '--input',\n",
    "                    metavar='filename')\n",
    "parser.add_argument('-o', '--output',\n",
    "                    metavar='filename')\n",
    "result = parser.parse_args()\n",
    "print(result)"
   ]
  },
  {
   "cell_type": "code",
   "execution_count": 21,
   "metadata": {
    "slideshow": {
     "slide_type": "subslide"
    }
   },
   "outputs": [
    {
     "name": "stdout",
     "output_type": "stream",
     "text": [
      "usage: cli_demo.py [-h] [-i filename] [-o filename]\r\n",
      "\r\n",
      "optional arguments:\r\n",
      "  -h, --help            show this help message and exit\r\n",
      "  -i filename, --input filename\r\n",
      "  -o filename, --output filename\r\n"
     ]
    }
   ],
   "source": [
    "!python -m cli_demo -h"
   ]
  },
  {
   "cell_type": "code",
   "execution_count": 22,
   "metadata": {},
   "outputs": [
    {
     "name": "stdout",
     "output_type": "stream",
     "text": [
      "Namespace(input='siemano.txt', output='papa.md')\r\n"
     ]
    }
   ],
   "source": [
    "!python -m cli_demo -i 'siemano.txt' -o 'papa.md'"
   ]
  },
  {
   "cell_type": "markdown",
   "metadata": {
    "slideshow": {
     "slide_type": "slide"
    }
   },
   "source": [
    "### Destination names"
   ]
  },
  {
   "cell_type": "code",
   "execution_count": 23,
   "metadata": {},
   "outputs": [
    {
     "name": "stdout",
     "output_type": "stream",
     "text": [
      "Overwriting cli_demo.py\n"
     ]
    }
   ],
   "source": [
    "%%writefile cli_demo.py\n",
    "\n",
    "import argparse\n",
    "\n",
    "parser = argparse.ArgumentParser()\n",
    "parser.add_argument('-i', '--input',\n",
    "                    metavar='filename',\n",
    "                    dest='input_filename')\n",
    "parser.add_argument('-o', '--output',\n",
    "                    metavar='filename',\n",
    "                    dest='ouput_filename')\n",
    "result = parser.parse_args()\n",
    "print(result)"
   ]
  },
  {
   "cell_type": "code",
   "execution_count": 24,
   "metadata": {
    "slideshow": {
     "slide_type": "subslide"
    }
   },
   "outputs": [
    {
     "name": "stdout",
     "output_type": "stream",
     "text": [
      "Namespace(input_filename='siemano.txt', ouput_filename='papa.md')\r\n"
     ]
    }
   ],
   "source": [
    "!python -m cli_demo -i 'siemano.txt' -o 'papa.md'"
   ]
  },
  {
   "cell_type": "markdown",
   "metadata": {
    "slideshow": {
     "slide_type": "slide"
    }
   },
   "source": [
    "### Obligatory fields (required)"
   ]
  },
  {
   "cell_type": "code",
   "execution_count": 25,
   "metadata": {},
   "outputs": [
    {
     "name": "stdout",
     "output_type": "stream",
     "text": [
      "Overwriting cli_demo.py\n"
     ]
    }
   ],
   "source": [
    "%%writefile cli_demo.py\n",
    "\n",
    "import argparse\n",
    "\n",
    "parser = argparse.ArgumentParser()\n",
    "parser.add_argument('-i', '--input',\n",
    "                    metavar='filename',\n",
    "                    dest='input_filename',\n",
    "                    required=True)\n",
    "parser.add_argument('-o', '--output',\n",
    "                    metavar='filename',\n",
    "                    dest='ouput_filename')\n",
    "result = parser.parse_args()\n",
    "print(result)"
   ]
  },
  {
   "cell_type": "code",
   "execution_count": 26,
   "metadata": {
    "slideshow": {
     "slide_type": "subslide"
    }
   },
   "outputs": [
    {
     "name": "stdout",
     "output_type": "stream",
     "text": [
      "usage: cli_demo.py [-h] -i filename [-o filename]\r\n",
      "\r\n",
      "optional arguments:\r\n",
      "  -h, --help            show this help message and exit\r\n",
      "  -i filename, --input filename\r\n",
      "  -o filename, --output filename\r\n"
     ]
    }
   ],
   "source": [
    "!python -m cli_demo -h"
   ]
  },
  {
   "cell_type": "markdown",
   "metadata": {
    "slideshow": {
     "slide_type": "slide"
    }
   },
   "source": [
    "### Explicit help and paramter choices :):)"
   ]
  },
  {
   "cell_type": "code",
   "execution_count": 27,
   "metadata": {
    "slideshow": {
     "slide_type": "subslide"
    }
   },
   "outputs": [
    {
     "name": "stdout",
     "output_type": "stream",
     "text": [
      "Overwriting cli_demo.py\n"
     ]
    }
   ],
   "source": [
    "%%writefile cli_demo.py\n",
    "\n",
    "import argparse\n",
    "\n",
    "parser = argparse.ArgumentParser()\n",
    "parser.add_argument('-i', '--input',\n",
    "                    metavar='filename',\n",
    "                    dest='input_filename',\n",
    "                    required=True)\n",
    "parser.add_argument('-o', '--output',\n",
    "                    metavar='filename',\n",
    "                    dest='ouput_filename')\n",
    "parser.add_argument('-cc', '--change_coding_to',\n",
    "                    required=True,\n",
    "                    help='coding type of an output file',\n",
    "                    dest='coding',\n",
    "                    choices=('utf-8', 'utf-16', 'cp-1252'),\n",
    "                    #metavar='coding_type'\n",
    "                    )\n",
    "result = parser.parse_args()\n",
    "print(result)"
   ]
  },
  {
   "cell_type": "code",
   "execution_count": 28,
   "metadata": {
    "scrolled": true,
    "slideshow": {
     "slide_type": "subslide"
    }
   },
   "outputs": [
    {
     "name": "stdout",
     "output_type": "stream",
     "text": [
      "usage: cli_demo.py [-h] -i filename [-o filename] -cc {utf-8,utf-16,cp-1252}\r\n",
      "\r\n",
      "optional arguments:\r\n",
      "  -h, --help            show this help message and exit\r\n",
      "  -i filename, --input filename\r\n",
      "  -o filename, --output filename\r\n",
      "  -cc {utf-8,utf-16,cp-1252}, --change_coding_to {utf-8,utf-16,cp-1252}\r\n",
      "                        coding type of an output file\r\n"
     ]
    }
   ],
   "source": [
    "!python -m cli_demo -h"
   ]
  },
  {
   "cell_type": "code",
   "execution_count": 29,
   "metadata": {},
   "outputs": [
    {
     "name": "stdout",
     "output_type": "stream",
     "text": [
      "usage: cli_demo.py [-h] -i filename [-o filename] -cc {utf-8,utf-16,cp-1252}\r\n",
      "cli_demo.py: error: argument -cc/--change_coding_to: invalid choice: 'utf-82' (choose from 'utf-8', 'utf-16', 'cp-1252')\r\n"
     ]
    }
   ],
   "source": [
    "!python -m cli_demo -i 'siemano.txt' -o 'papa.md' -cc 'utf-82'"
   ]
  },
  {
   "cell_type": "code",
   "execution_count": 30,
   "metadata": {},
   "outputs": [
    {
     "name": "stdout",
     "output_type": "stream",
     "text": [
      "Namespace(coding='utf-8', input_filename='siemano.txt', ouput_filename='papa.md')\r\n"
     ]
    }
   ],
   "source": [
    "!python -m cli_demo -i 'siemano.txt' -o 'papa.md' -cc 'utf-8'"
   ]
  },
  {
   "cell_type": "code",
   "execution_count": 31,
   "metadata": {
    "slideshow": {
     "slide_type": "subslide"
    }
   },
   "outputs": [
    {
     "name": "stdout",
     "output_type": "stream",
     "text": [
      "Overwriting cli_demo.py\n"
     ]
    }
   ],
   "source": [
    "%%writefile cli_demo.py\n",
    "\n",
    "import argparse\n",
    "\n",
    "parser = argparse.ArgumentParser()\n",
    "parser.add_argument('-i', '--input',\n",
    "                    metavar='filename',\n",
    "                    dest='input_filename',\n",
    "                    required=True)\n",
    "parser.add_argument('-o', '--output',\n",
    "                    metavar='filename',\n",
    "                    dest='ouput_filename')\n",
    "parser.add_argument('-cc', '--change_coding_to',\n",
    "                    required=True,\n",
    "                    help='coding type of an output file',\n",
    "                    dest='coding',\n",
    "                    choices=('utf-8', 'utf-16', 'cp-1252'),\n",
    "                    metavar='coding_type'  # where are my choices??\n",
    "                    )\n",
    "result = parser.parse_args()\n",
    "print(result)"
   ]
  },
  {
   "cell_type": "code",
   "execution_count": 32,
   "metadata": {
    "slideshow": {
     "slide_type": "subslide"
    }
   },
   "outputs": [
    {
     "name": "stdout",
     "output_type": "stream",
     "text": [
      "usage: cli_demo.py [-h] -i filename [-o filename] -cc coding_type\r\n",
      "\r\n",
      "optional arguments:\r\n",
      "  -h, --help            show this help message and exit\r\n",
      "  -i filename, --input filename\r\n",
      "  -o filename, --output filename\r\n",
      "  -cc coding_type, --change_coding_to coding_type\r\n",
      "                        coding type of an output file\r\n"
     ]
    }
   ],
   "source": [
    "!python -m cli_demo -h"
   ]
  },
  {
   "cell_type": "code",
   "execution_count": 33,
   "metadata": {
    "slideshow": {
     "slide_type": "subslide"
    }
   },
   "outputs": [
    {
     "name": "stdout",
     "output_type": "stream",
     "text": [
      "usage: cli_demo.py [-h] -i filename [-o filename] -cc coding_type\r\n",
      "cli_demo.py: error: argument -cc/--change_coding_to: invalid choice: 'utf-82' (choose from 'utf-8', 'utf-16', 'cp-1252')\r\n"
     ]
    }
   ],
   "source": [
    "!python -m cli_demo -i 'siemano.txt' -o 'papa.md' -cc 'utf-82'"
   ]
  },
  {
   "cell_type": "code",
   "execution_count": 34,
   "metadata": {},
   "outputs": [
    {
     "name": "stdout",
     "output_type": "stream",
     "text": [
      "Namespace(coding='utf-8', input_filename='siemano.txt', ouput_filename='papa.md')\r\n"
     ]
    }
   ],
   "source": [
    "!python -m cli_demo -i 'siemano.txt' -o 'papa.md' -cc 'utf-8'"
   ]
  },
  {
   "cell_type": "markdown",
   "metadata": {
    "slideshow": {
     "slide_type": "slide"
    }
   },
   "source": [
    "### Defining types / Converting arguments to python objects\n",
    "\n",
    "- 'type' option just runs a converting function on an argument\n",
    "- shows incorrect values when an exception is thrown, but it might be confiusing to match things correctly"
   ]
  },
  {
   "cell_type": "code",
   "execution_count": 35,
   "metadata": {
    "slideshow": {
     "slide_type": "subslide"
    }
   },
   "outputs": [
    {
     "name": "stdout",
     "output_type": "stream",
     "text": [
      "Overwriting cli_demo.py\n"
     ]
    }
   ],
   "source": [
    "%%writefile cli_demo.py\n",
    "\n",
    "import argparse\n",
    "\n",
    "\n",
    "parser = argparse.ArgumentParser()\n",
    "parser.add_argument('-m', '--months',\n",
    "                    metavar='number',\n",
    "                    help='Provide the amount of months',\n",
    "                    type=int)  # defining it should be an integer\n",
    "\n",
    "result = parser.parse_args()\n",
    "print(result)"
   ]
  },
  {
   "cell_type": "code",
   "execution_count": 36,
   "metadata": {
    "slideshow": {
     "slide_type": "subslide"
    }
   },
   "outputs": [
    {
     "name": "stdout",
     "output_type": "stream",
     "text": [
      "usage: cli_demo.py [-h] [-m number]\r\n",
      "\r\n",
      "optional arguments:\r\n",
      "  -h, --help            show this help message and exit\r\n",
      "  -m number, --months number\r\n",
      "                        Provide the amount of months\r\n"
     ]
    }
   ],
   "source": [
    "!python -m cli_demo -h"
   ]
  },
  {
   "cell_type": "code",
   "execution_count": 37,
   "metadata": {
    "slideshow": {
     "slide_type": "subslide"
    }
   },
   "outputs": [
    {
     "name": "stdout",
     "output_type": "stream",
     "text": [
      "Namespace(months=10)\r\n"
     ]
    }
   ],
   "source": [
    "!python -m cli_demo -m 10"
   ]
  },
  {
   "cell_type": "code",
   "execution_count": 38,
   "metadata": {},
   "outputs": [
    {
     "name": "stdout",
     "output_type": "stream",
     "text": [
      "usage: cli_demo.py [-h] [-m number]\r\n",
      "cli_demo.py: error: argument -m/--months: invalid int value: '10a'\r\n"
     ]
    }
   ],
   "source": [
    "!python -m cli_demo -m 10a"
   ]
  },
  {
   "cell_type": "markdown",
   "metadata": {
    "slideshow": {
     "slide_type": "subslide"
    }
   },
   "source": [
    "### Parsing complex python objects"
   ]
  },
  {
   "cell_type": "code",
   "execution_count": 39,
   "metadata": {},
   "outputs": [
    {
     "name": "stdout",
     "output_type": "stream",
     "text": [
      "Overwriting cli_demo.py\n"
     ]
    }
   ],
   "source": [
    "%%writefile cli_demo.py\n",
    "\n",
    "import argparse\n",
    "\n",
    "def date_parser(date_string):\n",
    "    return date_string\n",
    "\n",
    "parser = argparse.ArgumentParser()\n",
    "parser.add_argument('-d', '--date',\n",
    "                    metavar='YYYY-MM-DD',\n",
    "                    help='Provide date in format \"2019-7-10\"',\n",
    "                    type=date_parser)\n",
    "\n",
    "result = parser.parse_args()\n",
    "print(result)"
   ]
  },
  {
   "cell_type": "code",
   "execution_count": 40,
   "metadata": {
    "slideshow": {
     "slide_type": "subslide"
    }
   },
   "outputs": [
    {
     "name": "stdout",
     "output_type": "stream",
     "text": [
      "usage: cli_demo.py [-h] [-d YYYY-MM-DD]\r\n",
      "\r\n",
      "optional arguments:\r\n",
      "  -h, --help            show this help message and exit\r\n",
      "  -d YYYY-MM-DD, --date YYYY-MM-DD\r\n",
      "                        Provide date in format \"2019-7-10\"\r\n"
     ]
    }
   ],
   "source": [
    "!python -m cli_demo -h"
   ]
  },
  {
   "cell_type": "code",
   "execution_count": 41,
   "metadata": {},
   "outputs": [
    {
     "name": "stdout",
     "output_type": "stream",
     "text": [
      "Namespace(date='blablalbla')\r\n"
     ]
    }
   ],
   "source": [
    "!python -m cli_demo -d 'blablalbla'"
   ]
  },
  {
   "cell_type": "code",
   "execution_count": 42,
   "metadata": {
    "slideshow": {
     "slide_type": "subslide"
    }
   },
   "outputs": [
    {
     "name": "stdout",
     "output_type": "stream",
     "text": [
      "Overwriting cli_demo.py\n"
     ]
    }
   ],
   "source": [
    "%%writefile cli_demo.py\n",
    "\n",
    "import argparse\n",
    "from datetime import datetime as dt\n",
    "\n",
    "def date_parser(date_string):\n",
    "    return dt.strptime(date_string, '%Y-%m-%d')\n",
    "\n",
    "\n",
    "parser = argparse.ArgumentParser()\n",
    "parser.add_argument('-d', '--date',\n",
    "                    metavar='YYYY-MM-DD',\n",
    "                    help='Provide date in format \"2019-7-10\"',\n",
    "                    type=date_parser)\n",
    "\n",
    "result = parser.parse_args()\n",
    "print(result)"
   ]
  },
  {
   "cell_type": "markdown",
   "metadata": {
    "slideshow": {
     "slide_type": "subslide"
    }
   },
   "source": [
    "### Not the clearest debug info"
   ]
  },
  {
   "cell_type": "code",
   "execution_count": 43,
   "metadata": {
    "slideshow": {
     "slide_type": "-"
    }
   },
   "outputs": [
    {
     "name": "stdout",
     "output_type": "stream",
     "text": [
      "usage: cli_demo.py [-h] [-d YYYY-MM-DD]\r\n",
      "cli_demo.py: error: argument -d/--date: invalid date_parser value: 'blablalbla'\r\n"
     ]
    }
   ],
   "source": [
    "!python -m cli_demo -d 'blablalbla'"
   ]
  },
  {
   "cell_type": "code",
   "execution_count": 44,
   "metadata": {
    "slideshow": {
     "slide_type": "subslide"
    }
   },
   "outputs": [
    {
     "name": "stdout",
     "output_type": "stream",
     "text": [
      "Overwriting cli_demo.py\n"
     ]
    }
   ],
   "source": [
    "%%writefile cli_demo.py\n",
    "\n",
    "import argparse\n",
    "from datetime import datetime as dt\n",
    "\n",
    "def date_parser(date_string):\n",
    "    try:\n",
    "        return dt.strptime(date_string, '%Y-%m-%d')\n",
    "    except ValueError:\n",
    "        exit(f'Incorrect date string: {date_string}')\n",
    "\n",
    "parser = argparse.ArgumentParser()\n",
    "parser.add_argument('-d', '--date',\n",
    "                    metavar='YYYY-MM-DD',\n",
    "                    help='Provide date in format \"2019-7-10\"',\n",
    "                    type=date_parser)\n",
    "\n",
    "result = parser.parse_args()\n",
    "print(result)"
   ]
  },
  {
   "cell_type": "markdown",
   "metadata": {
    "slideshow": {
     "slide_type": "subslide"
    }
   },
   "source": [
    "### Better :)"
   ]
  },
  {
   "cell_type": "code",
   "execution_count": 45,
   "metadata": {
    "slideshow": {
     "slide_type": "-"
    }
   },
   "outputs": [
    {
     "name": "stdout",
     "output_type": "stream",
     "text": [
      "Incorrect date string: blablalbla\r\n"
     ]
    }
   ],
   "source": [
    "!python -m cli_demo -d 'blablalbla'"
   ]
  },
  {
   "cell_type": "code",
   "execution_count": 46,
   "metadata": {},
   "outputs": [
    {
     "name": "stdout",
     "output_type": "stream",
     "text": [
      "Namespace(date=datetime.datetime(2019, 7, 10, 0, 0))\r\n"
     ]
    }
   ],
   "source": [
    "!python -m cli_demo -d '2019-7-10'"
   ]
  },
  {
   "cell_type": "code",
   "execution_count": 47,
   "metadata": {},
   "outputs": [
    {
     "name": "stdout",
     "output_type": "stream",
     "text": [
      "Namespace(date=datetime.datetime(2019, 7, 10, 0, 0))\r\n"
     ]
    }
   ],
   "source": [
    "!python -m cli_demo -d '2019-07-10'"
   ]
  },
  {
   "cell_type": "markdown",
   "metadata": {
    "slideshow": {
     "slide_type": "slide"
    }
   },
   "source": [
    "### Multiple arguments for a broad CLI\n",
    "- Why would we externalize a binary from our software?"
   ]
  },
  {
   "cell_type": "code",
   "execution_count": 48,
   "metadata": {
    "slideshow": {
     "slide_type": "subslide"
    }
   },
   "outputs": [
    {
     "name": "stdout",
     "output_type": "stream",
     "text": [
      "Overwriting cli_demo.py\n"
     ]
    }
   ],
   "source": [
    "%%writefile cli_demo.py\n",
    "\n",
    "import argparse\n",
    "from datetime import datetime as dt\n",
    "\n",
    "\n",
    "parser = argparse.ArgumentParser()\n",
    "parser.add_argument(nargs='*',\n",
    "                    dest='values',\n",
    "                    help='provide a list of values to calculate their average',\n",
    "                    type=float)\n",
    "    \n",
    "    \n",
    "if __name__ == '__main__':\n",
    "    result = parser.parse_args()\n",
    "    print(result)\n",
    "    average = sum(result.values) / len(result.values)\n",
    "    print(f'average: {average}')"
   ]
  },
  {
   "cell_type": "code",
   "execution_count": 49,
   "metadata": {
    "slideshow": {
     "slide_type": "subslide"
    }
   },
   "outputs": [
    {
     "name": "stdout",
     "output_type": "stream",
     "text": [
      "Namespace(values=[1.0, 2.0, 3.0, 4.0, 5.0, 6.0, 7.0])\r\n",
      "average: 4.0\r\n"
     ]
    }
   ],
   "source": [
    "!python -m cli_demo 1 2 3 4 5 6 7"
   ]
  },
  {
   "cell_type": "markdown",
   "metadata": {
    "slideshow": {
     "slide_type": "slide"
    }
   },
   "source": [
    "### Things to consider\n",
    "\n",
    "organize your code to show smallest function namespace as possibe: \n",
    "- minimize import visibility\n",
    "- minimize helper-function visibility"
   ]
  },
  {
   "cell_type": "code",
   "execution_count": 50,
   "metadata": {
    "slideshow": {
     "slide_type": "skip"
    }
   },
   "outputs": [
    {
     "name": "stdout",
     "output_type": "stream",
     "text": [
      "Overwriting cli_demo.py\n"
     ]
    }
   ],
   "source": [
    "%%writefile cli_demo.py\n",
    "\n",
    "import argparse\n",
    "from datetime import datetime as dt\n",
    "\n",
    "def date_parser(date_string):\n",
    "    try:\n",
    "        return dt.strptime(date_string, '%Y-%m-%d')\n",
    "    except ValueError:\n",
    "        exit(f'Incorrect date string: {date_string}')\n",
    "\n",
    "parser = argparse.ArgumentParser()\n",
    "parser.add_argument('-d', '--date',\n",
    "                    metavar='YYYY-MM-DD',\n",
    "                    help='Provide date in format \"2019-7-10\"',\n",
    "                    type=date_parser)\n",
    "\n",
    "\n",
    "if __name__ == '__main__':\n",
    "    result = parser.parse_args()\n",
    "    print(result)"
   ]
  },
  {
   "cell_type": "code",
   "execution_count": 51,
   "metadata": {
    "slideshow": {
     "slide_type": "subslide"
    }
   },
   "outputs": [
    {
     "name": "stdout",
     "output_type": "stream",
     "text": [
      "['__builtins__',\n",
      " '__cached__',\n",
      " '__doc__',\n",
      " '__file__',\n",
      " '__loader__',\n",
      " '__name__',\n",
      " '__package__',\n",
      " '__spec__',\n",
      " 'argparse',\n",
      " 'date_parser',\n",
      " 'dt',\n",
      " 'parser']\n"
     ]
    }
   ],
   "source": [
    "import cli_demo\n",
    "\n",
    "pp(dir(cli_demo))"
   ]
  },
  {
   "cell_type": "code",
   "execution_count": 52,
   "metadata": {
    "slideshow": {
     "slide_type": "subslide"
    }
   },
   "outputs": [
    {
     "name": "stdout",
     "output_type": "stream",
     "text": [
      "Overwriting cli_demo.py\n"
     ]
    }
   ],
   "source": [
    "%%writefile cli_demo.py\n",
    "\n",
    "def parse_args():\n",
    "    def date_parser(date_string):  # be sure there is no closure possible\n",
    "        from datetime import datetime as dt\n",
    "        try:\n",
    "            return dt.strptime(date_string, '%Y-%m-%d')\n",
    "        except ValueError:\n",
    "            exit(f'Incorrect date string: {date_string}')\n",
    "\n",
    "    import argparse\n",
    "    parser = argparse.ArgumentParser()\n",
    "    parser.add_argument(nargs='*',\n",
    "                        dest='values',\n",
    "                        help='provide a list of values to calculate their average',\n",
    "                        type=float)\n",
    "    result = parser.parse_args()\n",
    "    return result"
   ]
  },
  {
   "cell_type": "code",
   "execution_count": 53,
   "metadata": {
    "slideshow": {
     "slide_type": "skip"
    }
   },
   "outputs": [
    {
     "name": "stdout",
     "output_type": "stream",
     "text": [
      "Overwriting cli_demo_masked.py\n"
     ]
    }
   ],
   "source": [
    "%%writefile cli_demo_masked.py\n",
    "\n",
    "def parse_args():\n",
    "    def date_parser(date_string):  # be sure there is no closure possible\n",
    "        from datetime import datetime as dt\n",
    "        try:\n",
    "            return dt.strptime(date_string, '%Y-%m-%d')\n",
    "        except ValueError:\n",
    "            exit(f'Incorrect date string: {date_string}')\n",
    "\n",
    "    import argparse\n",
    "    parser = argparse.ArgumentParser()\n",
    "    parser.add_argument(nargs='*',\n",
    "                        dest='values',\n",
    "                        help='provide a list of values to calculate their average',\n",
    "                        type=float)\n",
    "    result = parser.parse_args()\n",
    "    return result\n",
    "\n",
    "\n",
    "if __name__ == '__main__':\n",
    "    result = parse_args()\n",
    "    print(result)\n",
    "    average = sum(result.values) / len(result.values)\n",
    "    print(f'average: {average}')"
   ]
  },
  {
   "cell_type": "code",
   "execution_count": 54,
   "metadata": {
    "slideshow": {
     "slide_type": "subslide"
    }
   },
   "outputs": [
    {
     "name": "stdout",
     "output_type": "stream",
     "text": [
      "Namespace(values=[1.0, 2.0, 3.0, 4.0, 5.0, 6.0, 7.0])\r\n",
      "average: 4.0\r\n"
     ]
    }
   ],
   "source": [
    "!python -m cli_demo_masked 1 2 3 4 5 6 7"
   ]
  },
  {
   "cell_type": "code",
   "execution_count": 55,
   "metadata": {},
   "outputs": [
    {
     "name": "stdout",
     "output_type": "stream",
     "text": [
      "['__builtins__',\n",
      " '__cached__',\n",
      " '__doc__',\n",
      " '__file__',\n",
      " '__loader__',\n",
      " '__name__',\n",
      " '__package__',\n",
      " '__spec__',\n",
      " 'argparse',\n",
      " 'date_parser',\n",
      " 'dt',\n",
      " 'parser']\n"
     ]
    }
   ],
   "source": [
    "import cli_demo_masked\n",
    "\n",
    "pp(dir(cli_demo))"
   ]
  },
  {
   "cell_type": "markdown",
   "metadata": {
    "slideshow": {
     "slide_type": "slide"
    }
   },
   "source": [
    "# Thanks!!\n",
    "\n",
    "### Q/A??"
   ]
  }
 ],
 "metadata": {
  "celltoolbar": "Slideshow",
  "kernelspec": {
   "display_name": "Python 3",
   "language": "python",
   "name": "python3"
  },
  "language_info": {
   "codemirror_mode": {
    "name": "ipython",
    "version": 3
   },
   "file_extension": ".py",
   "mimetype": "text/x-python",
   "name": "python",
   "nbconvert_exporter": "python",
   "pygments_lexer": "ipython3",
   "version": "3.7.0"
  }
 },
 "nbformat": 4,
 "nbformat_minor": 2
}
